{
 "cells": [
  {
   "cell_type": "markdown",
   "id": "fcf70380",
   "metadata": {},
   "source": [
    "# Neural networks basics"
   ]
  },
  {
   "cell_type": "code",
   "execution_count": 1,
   "id": "spread-happiness",
   "metadata": {},
   "outputs": [],
   "source": [
    "%matplotlib inline\n",
    "%load_ext autoreload\n",
    "%autoreload 2\n",
    "\n",
    "import numpy as np\n",
    "import pandas as pd\n",
    "import matplotlib.pyplot as plt\n",
    "import seaborn as sns\n",
    "import matplotlib.ticker as ticker\n",
    "from IPython.display import Markdown, display, HTML\n",
    "\n",
    "# Fix the dying kernel problem (only a problem in some installations - you can remove it, if it works without it)\n",
    "import os\n",
    "os.environ['KMP_DUPLICATE_LIB_OK'] = 'True'"
   ]
  },
  {
   "cell_type": "markdown",
   "id": "regular-niger",
   "metadata": {},
   "source": [
    "**Task 1.** Write a method for performing feed forward for a network with 2 input neurons, 3 hidden neurons with ReLU as the activation function, and 1 output neuron with no activation function. The interface of the method should be as follows:\n",
    "\n",
    "    feed_forward_1(x, w1, w2)\n",
    "    \n",
    "where x is a numpy array of size 1x2, w1 is a numpy array of size 3x2 of weights from the input layer to the hidden layer, w2 is a numpy array of size 1x3. The result should be a single number.\n",
    "\n",
    "As a helper function you can write the relu function:\n",
    "\n",
    "    relu(x)\n",
    "   \n",
    "which takes a numpy array as input and applies the ReLU function element-wise.\n",
    "\n",
    "Test it on 2-3 examples, calculate the result also with pen and paper by yourself (it's very important to do it at least once in your life!) and compare your results with the function results."
   ]
  },
  {
   "cell_type": "code",
   "execution_count": 2,
   "id": "agreed-single",
   "metadata": {},
   "outputs": [
    {
     "name": "stdout",
     "output_type": "stream",
     "text": [
      "3\n",
      "[[ 1]\n",
      " [-2]\n",
      " [ 3]]\n",
      "[[1]\n",
      " [0]\n",
      " [3]]\n",
      "[[1]\n",
      " [0]\n",
      " [3]]\n",
      "[[0.1 0.2]\n",
      " [0.7 0.3]\n",
      " [0.4 0.3]]\n",
      "[[0.4 0.2 0.9]]\n",
      "[[0.9]\n",
      " [0.7]]\n",
      "[[0.773]]\n",
      "0.7730000000000001\n"
     ]
    }
   ],
   "source": [
    "def temp(a):\n",
    "    return a + 1\n",
    "\n",
    "def relu(x):\n",
    "    ########################\n",
    "    # Write your code here #\n",
    "    ########################\n",
    "    if x > 0:\n",
    "        return x\n",
    "    return 0\n",
    "\n",
    "def relu2(x):\n",
    "    tempik = np.vectorize(relu)\n",
    "    return tempik(x)\n",
    "\n",
    "def feed_forward_1(x, w1, w2):\n",
    "    ########################\n",
    "    # Write your code here #\n",
    "    ########################\n",
    "    w1x = np.matmul(w1, x)\n",
    "    reluw1x = relu2(w1x)\n",
    "    w2reluw1x = np.matmul(w2, reluw1x)\n",
    "    reluw2reluw1x = relu2(w2reluw1x)\n",
    "    return reluw2reluw1x\n",
    "\n",
    "def simpler(x):\n",
    "    return x[0][0]\n",
    "\n",
    "\n",
    "# Test\n",
    "\n",
    "########################\n",
    "# Write your code here #\n",
    "########################\n",
    "print(relu(3))\n",
    "array = np.array([[1],[-2],[3]])\n",
    "print(array)\n",
    "blep = np.vectorize(relu)\n",
    "arrayblep = blep(array)\n",
    "print(arrayblep)\n",
    "print(relu2(array))\n",
    "\n",
    "w1 = np.array([[0.1, 0.2], [0.7, 0.3], [0.4, 0.3]])\n",
    "print(w1)\n",
    "w2 = np.array([[0.4, 0.2, 0.9]])\n",
    "# w2 = np.array([[1, -1, 1]])\n",
    "print(w2)\n",
    "x = np.array([[0.9], [0.7]])\n",
    "print(x)\n",
    "\n",
    "print(feed_forward_1(x, w1, w2))\n",
    "print(simpler(feed_forward_1(x, w1, w2)))"
   ]
  },
  {
   "cell_type": "markdown",
   "id": "another-catch",
   "metadata": {},
   "source": [
    "**Task 2.** Write a method for performing feed forward for a network with 2 input neurons, 3 hidden neurons with sigmoid activation function, and 1 output neuron with sigmoid activation function. The interface of the method should be as follows:\n",
    "\n",
    "    feed_forward_2(x, w1, w2)\n",
    "    \n",
    "where x is a numpy array of size 1x2, w1 is a numpy array of size 3x2 of weights from the input layer to the hidden layer, w2 is a numpy array of size 1x3. The result should be a single number.\n",
    "\n",
    "As a helper function you can write the sigmoid function:\n",
    "\n",
    "    sigmoid(x)\n",
    "   \n",
    "which takes a numpy array as input and applies the logistic function element-wise.\n",
    "\n",
    "Test it on 2-3 examples. Try to estimate the result by hand and compare both results."
   ]
  },
  {
   "cell_type": "code",
   "execution_count": 3,
   "id": "forbidden-journalism",
   "metadata": {},
   "outputs": [
    {
     "name": "stdout",
     "output_type": "stream",
     "text": [
      "0.7310585786300049\n",
      "[[0.1 0.2]\n",
      " [0.7 0.3]\n",
      " [0.4 0.3]]\n",
      "[[0.4 0.2 0.9]]\n",
      "[[0.9]\n",
      " [0.7]]\n",
      "[[0.71859015]]\n"
     ]
    }
   ],
   "source": [
    "import math\n",
    "def sigmoid(x):\n",
    "    ########################\n",
    "    # Write your code here #\n",
    "    ########################\n",
    "    return 1 / (1 + (math.exp(-x)))\n",
    "\n",
    "def sigmoid2(x):\n",
    "    tempik = np.vectorize(sigmoid)\n",
    "    return tempik(x)\n",
    "\n",
    "def feed_forward_2(x, w1, w2):\n",
    "    ########################\n",
    "    # Write your code here #\n",
    "    ########################\n",
    "    w1x = np.matmul(w1, x)\n",
    "    reluw1x = sigmoid2(w1x)\n",
    "    w2reluw1x = np.matmul(w2, reluw1x)\n",
    "    reluw2reluw1x = sigmoid2(w2reluw1x)\n",
    "    return reluw2reluw1x\n",
    "\n",
    "# Test\n",
    "\n",
    "########################\n",
    "# Write your code here #\n",
    "########################\n",
    "print(sigmoid(1))\n",
    "w1 = np.array([[0.1, 0.2], [0.7, 0.3], [0.4, 0.3]])\n",
    "print(w1)\n",
    "w2 = np.array([[0.4, 0.2, 0.9]])\n",
    "# w2 = np.array([[1, -1, 1]])\n",
    "print(w2)\n",
    "x = np.array([[0.9], [0.7]])\n",
    "print(x)\n",
    "\n",
    "print(feed_forward_2(x, w1, w2))"
   ]
  },
  {
   "cell_type": "markdown",
   "id": "acute-amber",
   "metadata": {},
   "source": [
    "**Task 3.** Write a method for performing feed forward for a network with 2 input neurons, 3 hidden neurons with relu activation, and 3 output neurons with no activation function but softmax applied to them. The interface of the method should be as follows:\n",
    "\n",
    "    feed_forward_3(x, w1, w2)\n",
    "    \n",
    "where x is a numpy array of size 1x2, w1 is a numpy array of size 3x2 of weights from the input layer to the hidden layer, w2 is a numpy array of size 3x3. The result should be a numpy array of size 1x3.\n",
    "\n",
    "As a helper function you can write the softmax function:\n",
    "\n",
    "    softmax(x)\n",
    "   \n",
    "which takes a numpy array as input, applies softmax to it and returns a numpy array of the same size.\n",
    "\n",
    "Test it on 2-3 examples. Try to estimate the result by hand and compare both results. Verify that the sum of output neurons is equal to 1."
   ]
  },
  {
   "cell_type": "code",
   "execution_count": 4,
   "id": "falling-holder",
   "metadata": {},
   "outputs": [
    {
     "name": "stdout",
     "output_type": "stream",
     "text": [
      "0.7310585786300049\n",
      "[[0.1 0.2]\n",
      " [0.7 0.3]\n",
      " [0.4 0.3]]\n",
      "[[0.4  0.2  0.9 ]\n",
      " [0.4  0.8  0.94]\n",
      " [0.2  0.3  0.5 ]]\n",
      "[[0.9]\n",
      " [0.7]]\n",
      "[[0.2840535 ]\n",
      " [0.48104586]\n",
      " [0.23490064]]\n"
     ]
    }
   ],
   "source": [
    "def softmax(x):\n",
    "    ########################\n",
    "    # Write your code here #\n",
    "    ########################\n",
    "    suma = np.sum(np.exp(x))\n",
    "    tempik = np.exp(x) / suma\n",
    "    return tempik\n",
    "\n",
    "def feed_forward_3(x, w1, w2):\n",
    "    w1x = np.matmul(w1, x)\n",
    "    reluw1x = relu2(w1x)\n",
    "    w2reluw1x = np.matmul(w2, reluw1x)\n",
    "    reluw2reluw1x = softmax(w2reluw1x)\n",
    "    return reluw2reluw1x\n",
    "\n",
    "# Test\n",
    "\n",
    "########################\n",
    "# Write your code here #\n",
    "########################\n",
    "print(sigmoid(1))\n",
    "w1 = np.array([[0.1, 0.2], [0.7, 0.3], [0.4, 0.3]])\n",
    "print(w1)\n",
    "w2 = np.array([[0.4, 0.2, 0.9], [0.4, 0.8, 0.94], [0.2, 0.3, 0.5]])\n",
    "# w2 = np.array([[1, -1, 1]])\n",
    "print(w2)\n",
    "x = np.array([[0.9], [0.7]])\n",
    "print(x)\n",
    "\n",
    "print(feed_forward_3(x, w1, w2))\n",
    "#print(relu2(np.matmul(w1, x)))\n",
    "#print(softmax(relu2(np.matmul(w1, x))))"
   ]
  },
  {
   "cell_type": "markdown",
   "id": "94fe2269",
   "metadata": {},
   "source": [
    "**Task 4.** Write a method for calculating the squared error:\n",
    "\n",
    "    se(y_bar, y)\n",
    "    \n",
    "where y_bar is a numpy array of predicted results and y is a numpy array of real values to be predicted.\n",
    "\n",
    "Test it on the 2-3 examples you created for feed_forward_1 and find the SE with respect to real values chosen by hand. Experiment with several values to get a grip of how SE works."
   ]
  },
  {
   "cell_type": "code",
   "execution_count": 5,
   "id": "5b7d7940",
   "metadata": {},
   "outputs": [
    {
     "name": "stdout",
     "output_type": "stream",
     "text": [
      "0.007299999999999991\n"
     ]
    }
   ],
   "source": [
    "def se(y_bar, y):\n",
    "    ########################\n",
    "    # Write your code here #\n",
    "    ########################\n",
    "    temp = y - y_bar\n",
    "    tempik = (temp * temp)\n",
    "    return np.sum(tempik)\n",
    "    \n",
    "# Test\n",
    "\n",
    "########################\n",
    "# Write your code here #\n",
    "########################\n",
    "a = np.array([0.4, 0.5, 0.6])\n",
    "b = np.array([0.43, 0.58, 0.6])\n",
    "print(se(a, b))"
   ]
  },
  {
   "cell_type": "markdown",
   "id": "0082d383",
   "metadata": {},
   "source": [
    "**Task 5.** Write a method for calculating the cross-entropy loss:\n",
    "\n",
    "    crossentropy(y_bar, y)\n",
    "    \n",
    "where y_bar is a numpy array of predicted results and y is a numpy array of real values to be predicted (y must contain one value of 1 and 0 on all other positions - just like in one-hot encoding).\n",
    "\n",
    "Test it on the 2-3 examples you created for feed_forward_3 and find the cross-entropy with respect to vectors of real values chosen by hand. Experiment with several target vectors to get a grip of how cross-entropy works."
   ]
  },
  {
   "cell_type": "code",
   "execution_count": 9,
   "id": "47526b2a",
   "metadata": {},
   "outputs": [
    {
     "name": "stdout",
     "output_type": "stream",
     "text": [
      "nan\n"
     ]
    },
    {
     "name": "stderr",
     "output_type": "stream",
     "text": [
      "<ipython-input-9-d2f559ba79ab>:13: RuntimeWarning: divide by zero encountered in log\n",
      "  temp_sum += current_y_c * np.log(current_y_pred_c)\n",
      "<ipython-input-9-d2f559ba79ab>:13: RuntimeWarning: invalid value encountered in multiply\n",
      "  temp_sum += current_y_c * np.log(current_y_pred_c)\n"
     ]
    }
   ],
   "source": [
    "def crossentropy(y_bar, y):\n",
    "    ########################\n",
    "    # Write your code here #\n",
    "    ########################\n",
    "    suma = 0\n",
    "    for i in range (len(y)):\n",
    "        temp_sum = 0\n",
    "        current_y = y[i]\n",
    "        current_y_pred = y_bar[i]\n",
    "        for c in range (len(current_y)):\n",
    "            current_y_c = current_y[c]\n",
    "            current_y_pred_c = current_y_pred[c]\n",
    "            temp_sum += current_y_c * np.log(current_y_pred_c)\n",
    "            temp_sum += (1- current_y_c) * np.log(1 - current_y_pred_c)\n",
    "        suma -= temp_sum\n",
    "    return suma/len(y)\n",
    "    \n",
    "# Test\n",
    "\n",
    "########################\n",
    "# Write your code here #\n",
    "########################\n",
    "y1 = [0, 0, 1, 0]\n",
    "y2 = [1, 0, 0, 0]\n",
    "y3 = [0, 0, 0, 1]\n",
    "y4 = [0, 1, 0, 0]\n",
    "\n",
    "y = np.array([y1, y2, y3, y4])\n",
    "\n",
    "predicted_y1 = [0.2, 0, 0.8, 0]\n",
    "predicted_y2 = [0.9, 0.05, 0.05, 0]\n",
    "predicted_y3 = [0.2, 0, 0.05, 0.75]\n",
    "predicted_y4 = [0.01, 0.97, 0.01, 0.01]\n",
    "\n",
    "predicted_y = np.array([predicted_y1, predicted_y2, predicted_y3, predicted_y4])\n",
    "\n",
    "print(crossentropy(predicted_y, y))\n",
    "\n"
   ]
  },
  {
   "cell_type": "markdown",
   "id": "e3718602",
   "metadata": {},
   "source": [
    "**Task 6.** Write a method which calculates the error term for network 2:\n",
    "\n",
    "    error_term(x, w1, w2, y)\n",
    "    \n",
    "where x is a numpy array of size 1x2, w1 is a numpy array of size 3x2 of weights from the input layer to the hidden layer, w2 is a numpy array of size 1x3, y is a float.\n",
    "\n",
    "The solution is extremely simple - it's just the difference between y and the result of feed_forward_2. This task is solely to bring this notion to your attention.\n",
    "\n",
    "Test it on the 2-3 examples you created for feed_forward_2 and several values of y (remember that the values of y should logically be in the interval [0-1], because you used the sigmoid activation which sends the network's results into this interval, technically turning them into probabilities)."
   ]
  },
  {
   "cell_type": "code",
   "execution_count": 10,
   "id": "47d98db2",
   "metadata": {},
   "outputs": [],
   "source": [
    "def error_term(x, w1, w2, y):\n",
    "    ########################\n",
    "    # Write your code here #\n",
    "    ########################\n",
    "    helper = feed_forward_2(x, w1, w2)\n",
    "    return y - helper\n",
    "\n",
    "# Test\n",
    "\n",
    "########################\n",
    "# Write your code here #\n",
    "########################"
   ]
  },
  {
   "cell_type": "markdown",
   "id": "f3896f79",
   "metadata": {},
   "source": [
    "**Task 7.** Write a method which calculates the derivative of the sigmoid function on every element of a numpy array:\n",
    "\n",
    "    sigmoid_derivative(x)\n",
    "    \n",
    "where x is a numpy array. The result should have the same size as the input.\n",
    "\n",
    "Use the formula:\n",
    "\n",
    "<center>\n",
    "$$\n",
    "    \\sigma'(x) = \\sigma(x) (1 - \\sigma(x))\n",
    "$$\n",
    "</center>\n",
    "\n",
    "Verify this formula by differentiating the sigmoid function by hand.\n",
    "\n",
    "Test the sigmoid_derivative method on a numpy array with several values (e.g. -3, -2, -1, 0, 1, 2, 3)."
   ]
  },
  {
   "cell_type": "code",
   "execution_count": 11,
   "id": "98020df9",
   "metadata": {},
   "outputs": [
    {
     "ename": "TypeError",
     "evalue": "only size-1 arrays can be converted to Python scalars",
     "output_type": "error",
     "traceback": [
      "\u001b[1;31m---------------------------------------------------------------------------\u001b[0m",
      "\u001b[1;31mTypeError\u001b[0m                                 Traceback (most recent call last)",
      "\u001b[1;32m<ipython-input-11-743b4ff91ed0>\u001b[0m in \u001b[0;36m<module>\u001b[1;34m\u001b[0m\n\u001b[0;32m     16\u001b[0m \u001b[1;31m########################\u001b[0m\u001b[1;33m\u001b[0m\u001b[1;33m\u001b[0m\u001b[1;33m\u001b[0m\u001b[0m\n\u001b[0;32m     17\u001b[0m \u001b[0mhelpik\u001b[0m \u001b[1;33m=\u001b[0m \u001b[0mnp\u001b[0m\u001b[1;33m.\u001b[0m\u001b[0marray\u001b[0m\u001b[1;33m(\u001b[0m\u001b[1;33m[\u001b[0m\u001b[1;33m-\u001b[0m\u001b[1;36m3\u001b[0m\u001b[1;33m,\u001b[0m \u001b[1;33m-\u001b[0m\u001b[1;36m2\u001b[0m\u001b[1;33m,\u001b[0m \u001b[1;33m-\u001b[0m\u001b[1;36m1\u001b[0m\u001b[1;33m,\u001b[0m \u001b[1;36m0\u001b[0m\u001b[1;33m,\u001b[0m \u001b[1;36m1\u001b[0m\u001b[1;33m,\u001b[0m \u001b[1;36m2\u001b[0m\u001b[1;33m,\u001b[0m \u001b[1;36m3\u001b[0m\u001b[1;33m]\u001b[0m\u001b[1;33m)\u001b[0m\u001b[1;33m\u001b[0m\u001b[1;33m\u001b[0m\u001b[0m\n\u001b[1;32m---> 18\u001b[1;33m \u001b[0mprint\u001b[0m\u001b[1;33m(\u001b[0m\u001b[0mhelper\u001b[0m\u001b[1;33m(\u001b[0m\u001b[0mhelpik\u001b[0m\u001b[1;33m)\u001b[0m\u001b[1;33m)\u001b[0m\u001b[1;33m\u001b[0m\u001b[1;33m\u001b[0m\u001b[0m\n\u001b[0m",
      "\u001b[1;32m<ipython-input-11-743b4ff91ed0>\u001b[0m in \u001b[0;36mhelper\u001b[1;34m(x)\u001b[0m\n\u001b[0;32m      1\u001b[0m \u001b[1;32mdef\u001b[0m \u001b[0mhelper\u001b[0m\u001b[1;33m(\u001b[0m\u001b[0mx\u001b[0m\u001b[1;33m)\u001b[0m\u001b[1;33m:\u001b[0m\u001b[1;33m\u001b[0m\u001b[1;33m\u001b[0m\u001b[0m\n\u001b[1;32m----> 2\u001b[1;33m     \u001b[1;32mreturn\u001b[0m \u001b[1;33m(\u001b[0m\u001b[0msigmoid\u001b[0m\u001b[1;33m(\u001b[0m\u001b[0mx\u001b[0m\u001b[1;33m)\u001b[0m \u001b[1;33m*\u001b[0m \u001b[1;33m(\u001b[0m\u001b[1;36m1\u001b[0m \u001b[1;33m-\u001b[0m \u001b[0msigmoid\u001b[0m\u001b[1;33m(\u001b[0m\u001b[0mx\u001b[0m\u001b[1;33m)\u001b[0m\u001b[1;33m)\u001b[0m\u001b[1;33m)\u001b[0m\u001b[1;33m\u001b[0m\u001b[1;33m\u001b[0m\u001b[0m\n\u001b[0m\u001b[0;32m      3\u001b[0m \u001b[1;33m\u001b[0m\u001b[0m\n\u001b[0;32m      4\u001b[0m \u001b[1;32mdef\u001b[0m \u001b[0msigmoid_derivative\u001b[0m\u001b[1;33m(\u001b[0m\u001b[0mx\u001b[0m\u001b[1;33m)\u001b[0m\u001b[1;33m:\u001b[0m\u001b[1;33m\u001b[0m\u001b[1;33m\u001b[0m\u001b[0m\n\u001b[0;32m      5\u001b[0m     \u001b[1;31m########################\u001b[0m\u001b[1;33m\u001b[0m\u001b[1;33m\u001b[0m\u001b[1;33m\u001b[0m\u001b[0m\n",
      "\u001b[1;32m<ipython-input-3-c0c9fb6ba6c8>\u001b[0m in \u001b[0;36msigmoid\u001b[1;34m(x)\u001b[0m\n\u001b[0;32m      4\u001b[0m     \u001b[1;31m# Write your code here #\u001b[0m\u001b[1;33m\u001b[0m\u001b[1;33m\u001b[0m\u001b[1;33m\u001b[0m\u001b[0m\n\u001b[0;32m      5\u001b[0m     \u001b[1;31m########################\u001b[0m\u001b[1;33m\u001b[0m\u001b[1;33m\u001b[0m\u001b[1;33m\u001b[0m\u001b[0m\n\u001b[1;32m----> 6\u001b[1;33m     \u001b[1;32mreturn\u001b[0m \u001b[1;36m1\u001b[0m \u001b[1;33m/\u001b[0m \u001b[1;33m(\u001b[0m\u001b[1;36m1\u001b[0m \u001b[1;33m+\u001b[0m \u001b[1;33m(\u001b[0m\u001b[0mmath\u001b[0m\u001b[1;33m.\u001b[0m\u001b[0mexp\u001b[0m\u001b[1;33m(\u001b[0m\u001b[1;33m-\u001b[0m\u001b[0mx\u001b[0m\u001b[1;33m)\u001b[0m\u001b[1;33m)\u001b[0m\u001b[1;33m)\u001b[0m\u001b[1;33m\u001b[0m\u001b[1;33m\u001b[0m\u001b[0m\n\u001b[0m\u001b[0;32m      7\u001b[0m \u001b[1;33m\u001b[0m\u001b[0m\n\u001b[0;32m      8\u001b[0m \u001b[1;32mdef\u001b[0m \u001b[0msigmoid2\u001b[0m\u001b[1;33m(\u001b[0m\u001b[0mx\u001b[0m\u001b[1;33m)\u001b[0m\u001b[1;33m:\u001b[0m\u001b[1;33m\u001b[0m\u001b[1;33m\u001b[0m\u001b[0m\n",
      "\u001b[1;31mTypeError\u001b[0m: only size-1 arrays can be converted to Python scalars"
     ]
    }
   ],
   "source": [
    "def helper(x):\n",
    "    return (sigmoid(x) * (1 - sigmoid(x)))\n",
    "\n",
    "def sigmoid_derivative(x):\n",
    "    ########################\n",
    "    # Write your code here #\n",
    "    ########################\n",
    "    for i in range (len(x)):\n",
    "        x[i] = helper(x[i])\n",
    "    return x\n",
    "\n",
    "# Test\n",
    "\n",
    "########################\n",
    "# Write your code here #\n",
    "########################\n",
    "helpik = np.array([-3, -2, -1, 0, 1, 2, 3])\n",
    "print(helper(helpik))"
   ]
  },
  {
   "cell_type": "markdown",
   "id": "2f301009",
   "metadata": {},
   "source": [
    "**Task 8.** Write a method for performing the backpropagation step for network 2. The method should have the following interface:\n",
    "\n",
    "    backpropagate(x, w1, w2, y, alpha)\n",
    "    \n",
    "where x is a numpy array of size 1x2, w1 is a numpy array of size 3x2 of weights from the input layer to the hidden layer, w2 is a numpy array of size 1x3, y is a float, alpha is the learning rate. The method should return a tuple with updated matrices w1 and w2.\n",
    "\n",
    "Test it on 2-3 examples. Test several values of the learning rate alpha on the same input to see how it affects the update step."
   ]
  },
  {
   "cell_type": "code",
   "execution_count": null,
   "id": "d8838f3d",
   "metadata": {},
   "outputs": [],
   "source": [
    "def backpropagate(x, w1, w2, y, alpha):\n",
    "    ########################\n",
    "    # Write your code here #\n",
    "    ########################\n",
    "    return w1, w2\n",
    "\n",
    "# Test\n",
    "\n",
    "########################\n",
    "# Write your code here #\n",
    "########################"
   ]
  },
  {
   "cell_type": "markdown",
   "id": "ce4f63a3",
   "metadata": {},
   "source": [
    "**Task 9.** Write a method for performing the backpropagation step for network 2 but without the activation function on the output neuron."
   ]
  },
  {
   "cell_type": "code",
   "execution_count": null,
   "id": "ec9a8c86",
   "metadata": {},
   "outputs": [],
   "source": [
    "def backpropagate_2(x, w1, w2, y, alpha):\n",
    "    ########################\n",
    "    # Write your code here #\n",
    "    ########################\n",
    "    return w1, w2\n",
    "\n",
    "# Test\n",
    "\n",
    "########################\n",
    "# Write your code here #\n",
    "########################"
   ]
  }
 ],
 "metadata": {
  "kernelspec": {
   "display_name": "Python 3",
   "language": "python",
   "name": "python3"
  },
  "language_info": {
   "codemirror_mode": {
    "name": "ipython",
    "version": 3
   },
   "file_extension": ".py",
   "mimetype": "text/x-python",
   "name": "python",
   "nbconvert_exporter": "python",
   "pygments_lexer": "ipython3",
   "version": "3.8.8"
  }
 },
 "nbformat": 4,
 "nbformat_minor": 5
}
