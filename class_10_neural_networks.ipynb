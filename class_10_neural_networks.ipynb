{
 "cells": [
  {
   "cell_type": "markdown",
   "id": "fcf70380",
   "metadata": {},
   "source": [
    "# Neural networks basics"
   ]
  },
  {
   "cell_type": "code",
   "execution_count": 1,
   "id": "spread-happiness",
   "metadata": {},
   "outputs": [],
   "source": [
    "%matplotlib inline\n",
    "%load_ext autoreload\n",
    "%autoreload 2\n",
    "\n",
    "import numpy as np\n",
    "import pandas as pd\n",
    "import matplotlib.pyplot as plt\n",
    "import seaborn as sns\n",
    "import matplotlib.ticker as ticker\n",
    "from IPython.display import Markdown, display, HTML\n",
    "\n",
    "# Fix the dying kernel problem (only a problem in some installations - you can remove it, if it works without it)\n",
    "import os\n",
    "os.environ['KMP_DUPLICATE_LIB_OK'] = 'True'"
   ]
  },
  {
   "cell_type": "markdown",
   "id": "regular-niger",
   "metadata": {},
   "source": [
    "**Task 1.** Write a method for performing feed forward for a network with 2 input neurons, 3 hidden neurons with ReLU as the activation function, and 1 output neuron with no activation function. The interface of the method should be as follows:\n",
    "\n",
    "    feed_forward_1(x, w1, w2)\n",
    "    \n",
    "where x is a numpy array of size 1x2, w1 is a numpy array of size 3x2 of weights from the input layer to the hidden layer, w2 is a numpy array of size 1x3. The result should be a single number.\n",
    "\n",
    "As a helper function you can write the relu function:\n",
    "\n",
    "    relu(x)\n",
    "   \n",
    "which takes a numpy array as input and applies the ReLU function element-wise.\n",
    "\n",
    "Test it on 2-3 examples, calculate the result also with pen and paper by yourself (it's very important to do it at least once in your life!) and compare your results with the function results."
   ]
  },
  {
   "cell_type": "code",
   "execution_count": 52,
   "id": "agreed-single",
   "metadata": {},
   "outputs": [
    {
     "name": "stdout",
     "output_type": "stream",
     "text": [
      "3\n",
      "[[ 1]\n",
      " [-2]\n",
      " [ 3]]\n",
      "[[1]\n",
      " [0]\n",
      " [3]]\n",
      "[[1]\n",
      " [0]\n",
      " [3]]\n",
      "[[0.1 0.2]\n",
      " [0.7 0.3]\n",
      " [0.4 0.3]]\n",
      "[[0.4 0.2 0.9]]\n",
      "[[0.9]\n",
      " [0.7]]\n",
      "[[0.773]]\n",
      "0.7730000000000001\n"
     ]
    }
   ],
   "source": [
    "def temp(a):\n",
    "    return a + 1\n",
    "\n",
    "def relu(x):\n",
    "    ########################\n",
    "    # Write your code here #\n",
    "    ########################\n",
    "    if x > 0:\n",
    "        return x\n",
    "    return 0\n",
    "\n",
    "def relu2(x):\n",
    "    tempik = np.vectorize(relu)\n",
    "    return tempik(x)\n",
    "\n",
    "def feed_forward_1(x, w1, w2):\n",
    "    ########################\n",
    "    # Write your code here #\n",
    "    ########################\n",
    "    w1x = np.matmul(w1, x)\n",
    "    reluw1x = relu2(w1x)\n",
    "    w2reluw1x = np.matmul(w2, reluw1x)\n",
    "    reluw2reluw1x = relu2(w2reluw1x)\n",
    "    return reluw2reluw1x\n",
    "\n",
    "def simpler(x):\n",
    "    return x[0][0]\n",
    "\n",
    "\n",
    "# Test\n",
    "\n",
    "########################\n",
    "# Write your code here #\n",
    "########################\n",
    "print(relu(3))\n",
    "array = np.array([[1],[-2],[3]])\n",
    "print(array)\n",
    "blep = np.vectorize(relu)\n",
    "arrayblep = blep(array)\n",
    "print(arrayblep)\n",
    "print(relu2(array))\n",
    "\n",
    "w1 = np.array([[0.1, 0.2], [0.7, 0.3], [0.4, 0.3]])\n",
    "print(w1)\n",
    "w2 = np.array([[0.4, 0.2, 0.9]])\n",
    "# w2 = np.array([[1, -1, 1]])\n",
    "print(w2)\n",
    "x = np.array([[0.9], [0.7]])\n",
    "print(x)\n",
    "\n",
    "print(feed_forward_1(x, w1, w2))\n",
    "print(simpler(feed_forward_1(x, w1, w2)))"
   ]
  },
  {
   "cell_type": "markdown",
   "id": "another-catch",
   "metadata": {},
   "source": [
    "**Task 2.** Write a method for performing feed forward for a network with 2 input neurons, 3 hidden neurons with sigmoid activation function, and 1 output neuron with sigmoid activation function. The interface of the method should be as follows:\n",
    "\n",
    "    feed_forward_2(x, w1, w2)\n",
    "    \n",
    "where x is a numpy array of size 1x2, w1 is a numpy array of size 3x2 of weights from the input layer to the hidden layer, w2 is a numpy array of size 1x3. The result should be a single number.\n",
    "\n",
    "As a helper function you can write the sigmoid function:\n",
    "\n",
    "    sigmoid(x)\n",
    "   \n",
    "which takes a numpy array as input and applies the logistic function element-wise.\n",
    "\n",
    "Test it on 2-3 examples. Try to estimate the result by hand and compare both results."
   ]
  },
  {
   "cell_type": "code",
   "execution_count": 45,
   "id": "forbidden-journalism",
   "metadata": {},
   "outputs": [
    {
     "name": "stdout",
     "output_type": "stream",
     "text": [
      "0.7310585786300049\n",
      "[[0.1 0.2]\n",
      " [0.7 0.3]\n",
      " [0.4 0.3]]\n",
      "[[0.4 0.2 0.9]]\n",
      "[[0.9]\n",
      " [0.7]]\n",
      "[[0.71859015]]\n"
     ]
    }
   ],
   "source": [
    "import math\n",
    "def sigmoid(x):\n",
    "    ########################\n",
    "    # Write your code here #\n",
    "    ########################\n",
    "    return 1 / (1 + (math.exp(-x)))\n",
    "\n",
    "def sigmoid2(x):\n",
    "    tempik = np.vectorize(sigmoid)\n",
    "    return tempik(x)\n",
    "\n",
    "def feed_forward_2(x, w1, w2):\n",
    "    ########################\n",
    "    # Write your code here #\n",
    "    ########################\n",
    "    w1x = np.matmul(w1, x)\n",
    "    reluw1x = sigmoid2(w1x)\n",
    "    w2reluw1x = np.matmul(w2, reluw1x)\n",
    "    reluw2reluw1x = sigmoid2(w2reluw1x)\n",
    "    return reluw2reluw1x\n",
    "\n",
    "# Test\n",
    "\n",
    "########################\n",
    "# Write your code here #\n",
    "########################\n",
    "print(sigmoid(1))\n",
    "w1 = np.array([[0.1, 0.2], [0.7, 0.3], [0.4, 0.3]])\n",
    "print(w1)\n",
    "w2 = np.array([[0.4, 0.2, 0.9]])\n",
    "# w2 = np.array([[1, -1, 1]])\n",
    "print(w2)\n",
    "x = np.array([[0.9], [0.7]])\n",
    "print(x)\n",
    "\n",
    "print(feed_forward_2(x, w1, w2))"
   ]
  },
  {
   "cell_type": "markdown",
   "id": "acute-amber",
   "metadata": {},
   "source": [
    "**Task 3.** Write a method for performing feed forward for a network with 2 input neurons, 3 hidden neurons with relu activation, and 3 output neurons with no activation function but softmax applied to them. The interface of the method should be as follows:\n",
    "\n",
    "    feed_forward_3(x, w1, w2)\n",
    "    \n",
    "where x is a numpy array of size 1x2, w1 is a numpy array of size 3x2 of weights from the input layer to the hidden layer, w2 is a numpy array of size 3x3. The result should be a numpy array of size 1x3.\n",
    "\n",
    "As a helper function you can write the softmax function:\n",
    "\n",
    "    softmax(x)\n",
    "   \n",
    "which takes a numpy array as input, applies softmax to it and returns a numpy array of the same size.\n",
    "\n",
    "Test it on 2-3 examples. Try to estimate the result by hand and compare both results. Verify that the sum of output neurons is equal to 1."
   ]
  },
  {
   "cell_type": "code",
   "execution_count": 59,
   "id": "falling-holder",
   "metadata": {},
   "outputs": [
    {
     "name": "stdout",
     "output_type": "stream",
     "text": [
      "0.7310585786300049\n",
      "[[0.1 0.2]\n",
      " [0.7 0.3]\n",
      " [0.4 0.3]]\n",
      "[[0.4  0.2  0.9 ]\n",
      " [0.4  0.8  0.94]\n",
      " [0.2  0.3  0.5 ]]\n",
      "[[0.9]\n",
      " [0.7]]\n",
      "[[0.2840535 ]\n",
      " [0.48104586]\n",
      " [0.23490064]]\n"
     ]
    }
   ],
   "source": [
    "def softmax(x):\n",
    "    ########################\n",
    "    # Write your code here #\n",
    "    ########################\n",
    "    suma = np.sum(np.exp(x))\n",
    "    tempik = np.exp(x) / suma\n",
    "    return tempik\n",
    "\n",
    "def feed_forward_3(x, w1, w2):\n",
    "    w1x = np.matmul(w1, x)\n",
    "    reluw1x = relu2(w1x)\n",
    "    w2reluw1x = np.matmul(w2, reluw1x)\n",
    "    reluw2reluw1x = softmax(w2reluw1x)\n",
    "    return reluw2reluw1x\n",
    "\n",
    "# Test\n",
    "\n",
    "########################\n",
    "# Write your code here #\n",
    "########################\n",
    "print(sigmoid(1))\n",
    "w1 = np.array([[0.1, 0.2], [0.7, 0.3], [0.4, 0.3]])\n",
    "print(w1)\n",
    "w2 = np.array([[0.4, 0.2, 0.9], [0.4, 0.8, 0.94], [0.2, 0.3, 0.5]])\n",
    "# w2 = np.array([[1, -1, 1]])\n",
    "print(w2)\n",
    "x = np.array([[0.9], [0.7]])\n",
    "print(x)\n",
    "\n",
    "print(feed_forward_3(x, w1, w2))\n",
    "#print(relu2(np.matmul(w1, x)))\n",
    "#print(softmax(relu2(np.matmul(w1, x))))"
   ]
  },
  {
   "cell_type": "markdown",
   "id": "94fe2269",
   "metadata": {},
   "source": [
    "**Task 4.** Write a method for calculating the squared error:\n",
    "\n",
    "    se(y_bar, y)\n",
    "    \n",
    "where y_bar is a numpy array of predicted results and y is a numpy array of real values to be predicted.\n",
    "\n",
    "Test it on the 2-3 examples you created for feed_forward_1 and find the SE with respect to real values chosen by hand. Experiment with several values to get a grip of how SE works."
   ]
  },
  {
   "cell_type": "code",
   "execution_count": 61,
   "id": "5b7d7940",
   "metadata": {},
   "outputs": [
    {
     "name": "stdout",
     "output_type": "stream",
     "text": [
      "0.007299999999999991\n"
     ]
    }
   ],
   "source": [
    "def se(y_bar, y):\n",
    "    ########################\n",
    "    # Write your code here #\n",
    "    ########################\n",
    "    temp = y - y_bar\n",
    "    tempik = (temp * temp)\n",
    "    return np.sum(tempik)\n",
    "    \n",
    "# Test\n",
    "\n",
    "########################\n",
    "# Write your code here #\n",
    "########################\n",
    "a = np.array([0.4, 0.5, 0.6])\n",
    "b = np.array([0.43, 0.58, 0.6])\n",
    "print(se(a, b))"
   ]
  },
  {
   "cell_type": "markdown",
   "id": "0082d383",
   "metadata": {},
   "source": [
    "**Task 5.** Write a method for calculating the cross-entropy loss:\n",
    "\n",
    "    crossentropy(y_bar, y)\n",
    "    \n",
    "where y_bar is a numpy array of predicted results and y is a numpy array of real values to be predicted (y must contain one value of 1 and 0 on all other positions - just like in one-hot encoding).\n",
    "\n",
    "Test it on the 2-3 examples you created for feed_forward_3 and find the cross-entropy with respect to vectors of real values chosen by hand. Experiment with several target vectors to get a grip of how cross-entropy works."
   ]
  },
  {
   "cell_type": "code",
   "execution_count": null,
   "id": "47526b2a",
   "metadata": {},
   "outputs": [],
   "source": [
    "def crossentropy(y_bar, y):\n",
    "    ########################\n",
    "    # Write your code here #\n",
    "    ########################\n",
    "    print()\n",
    "    \n",
    "# Test\n",
    "\n",
    "########################\n",
    "# Write your code here #\n",
    "########################\n",
    "y1 = [0, 0, 1, 0]\n",
    "y2 = [1, 0, 0, 0]"
   ]
  },
  {
   "cell_type": "markdown",
   "id": "e3718602",
   "metadata": {},
   "source": [
    "**Task 6.** Write a method which calculates the error term for network 2:\n",
    "\n",
    "    error_term(x, w1, w2, y)\n",
    "    \n",
    "where x is a numpy array of size 1x2, w1 is a numpy array of size 3x2 of weights from the input layer to the hidden layer, w2 is a numpy array of size 1x3, y is a float.\n",
    "\n",
    "The solution is extremely simple - it's just the difference between y and the result of feed_forward_2. This task is solely to bring this notion to your attention.\n",
    "\n",
    "Test it on the 2-3 examples you created for feed_forward_2 and several values of y (remember that the values of y should logically be in the interval [0-1], because you used the sigmoid activation which sends the network's results into this interval, technically turning them into probabilities)."
   ]
  },
  {
   "cell_type": "code",
   "execution_count": null,
   "id": "47d98db2",
   "metadata": {},
   "outputs": [],
   "source": [
    "def error_term(x, w1, w2, y):\n",
    "    ########################\n",
    "    # Write your code here #\n",
    "    ########################\n",
    "\n",
    "# Test\n",
    "\n",
    "########################\n",
    "# Write your code here #\n",
    "########################"
   ]
  },
  {
   "cell_type": "markdown",
   "id": "f3896f79",
   "metadata": {},
   "source": [
    "**Task 7.** Write a method which calculates the derivative of the sigmoid function on every element of a numpy array:\n",
    "\n",
    "    sigmoid_derivative(x)\n",
    "    \n",
    "where x is a numpy array. The result should have the same size as the input.\n",
    "\n",
    "Use the formula:\n",
    "\n",
    "<center>\n",
    "$$\n",
    "    \\sigma'(x) = \\sigma(x) (1 - \\sigma(x))\n",
    "$$\n",
    "</center>\n",
    "\n",
    "Verify this formula by differentiating the sigmoid function by hand.\n",
    "\n",
    "Test the sigmoid_derivative method on a numpy array with several values (e.g. -3, -2, -1, 0, 1, 2, 3)."
   ]
  },
  {
   "cell_type": "code",
   "execution_count": null,
   "id": "98020df9",
   "metadata": {},
   "outputs": [],
   "source": [
    "def sigmoid_derivative(x):\n",
    "    ########################\n",
    "    # Write your code here #\n",
    "    ########################\n",
    "\n",
    "# Test\n",
    "\n",
    "########################\n",
    "# Write your code here #\n",
    "########################"
   ]
  },
  {
   "cell_type": "markdown",
   "id": "2f301009",
   "metadata": {},
   "source": [
    "**Task 8.** Write a method for performing the backpropagation step for network 2. The method should have the following interface:\n",
    "\n",
    "    backpropagate(x, w1, w2, y, alpha)\n",
    "    \n",
    "where x is a numpy array of size 1x2, w1 is a numpy array of size 3x2 of weights from the input layer to the hidden layer, w2 is a numpy array of size 1x3, y is a float, alpha is the learning rate. The method should return a tuple with updated matrices w1 and w2.\n",
    "\n",
    "Test it on 2-3 examples. Test several values of the learning rate alpha on the same input to see how it affects the update step."
   ]
  },
  {
   "cell_type": "code",
   "execution_count": null,
   "id": "d8838f3d",
   "metadata": {},
   "outputs": [],
   "source": [
    "def backpropagate(x, w1, w2, y, alpha):\n",
    "    ########################\n",
    "    # Write your code here #\n",
    "    ########################\n",
    "    return w1, w2\n",
    "\n",
    "# Test\n",
    "\n",
    "########################\n",
    "# Write your code here #\n",
    "########################"
   ]
  },
  {
   "cell_type": "markdown",
   "id": "ce4f63a3",
   "metadata": {},
   "source": [
    "**Task 9.** Write a method for performing the backpropagation step for network 2 but without the activation function on the output neuron."
   ]
  },
  {
   "cell_type": "code",
   "execution_count": null,
   "id": "ec9a8c86",
   "metadata": {},
   "outputs": [],
   "source": [
    "def backpropagate_2(x, w1, w2, y, alpha):\n",
    "    ########################\n",
    "    # Write your code here #\n",
    "    ########################\n",
    "    return w1, w2\n",
    "\n",
    "# Test\n",
    "\n",
    "########################\n",
    "# Write your code here #\n",
    "########################"
   ]
  }
 ],
 "metadata": {
  "kernelspec": {
   "display_name": "Python 3",
   "language": "python",
   "name": "python3"
  },
  "language_info": {
   "codemirror_mode": {
    "name": "ipython",
    "version": 3
   },
   "file_extension": ".py",
   "mimetype": "text/x-python",
   "name": "python",
   "nbconvert_exporter": "python",
   "pygments_lexer": "ipython3",
   "version": "3.8.8"
  }
 },
 "nbformat": 4,
 "nbformat_minor": 5
}
